{
 "cells": [
  {
   "cell_type": "markdown",
   "id": "3d86c544",
   "metadata": {},
   "source": [
    "##                                                           Data Preprocessing"
   ]
  },
  {
   "cell_type": "markdown",
   "id": "00d04e0e",
   "metadata": {},
   "source": [
    "* Step 1 : Cleaning\n",
    "* Step 2 : Tokenization\n",
    "* Step 3 : Stop words removal\n",
    "* Step 4 : Lemmatization\n",
    "* Step 5 : Stemming"
   ]
  },
  {
   "cell_type": "code",
   "execution_count": 14,
   "id": "9e01a56e",
   "metadata": {},
   "outputs": [],
   "source": [
    "import warnings\n",
    "warnings.filterwarnings(\"ignore\")"
   ]
  },
  {
   "cell_type": "markdown",
   "id": "f73e3ea4",
   "metadata": {},
   "source": [
    "##### Reading Data"
   ]
  },
  {
   "cell_type": "code",
   "execution_count": 2,
   "id": "9e3a4173",
   "metadata": {},
   "outputs": [
    {
     "data": {
      "text/html": [
       "<div>\n",
       "<style scoped>\n",
       "    .dataframe tbody tr th:only-of-type {\n",
       "        vertical-align: middle;\n",
       "    }\n",
       "\n",
       "    .dataframe tbody tr th {\n",
       "        vertical-align: top;\n",
       "    }\n",
       "\n",
       "    .dataframe thead th {\n",
       "        text-align: right;\n",
       "    }\n",
       "</style>\n",
       "<table border=\"1\" class=\"dataframe\">\n",
       "  <thead>\n",
       "    <tr style=\"text-align: right;\">\n",
       "      <th></th>\n",
       "      <th>text</th>\n",
       "    </tr>\n",
       "  </thead>\n",
       "  <tbody>\n",
       "    <tr>\n",
       "      <th>0</th>\n",
       "      <td>Check out my Comment in this link: https://exa...</td>\n",
       "    </tr>\n",
       "    <tr>\n",
       "      <th>1</th>\n",
       "      <td>&lt;p&gt;Running is fun!&lt;/p&gt;</td>\n",
       "    </tr>\n",
       "    <tr>\n",
       "      <th>2</th>\n",
       "      <td>The cats are sitting on the mats.</td>\n",
       "    </tr>\n",
       "    <tr>\n",
       "      <th>3</th>\n",
       "      <td>I'm Fine :&gt;</td>\n",
       "    </tr>\n",
       "    <tr>\n",
       "      <th>4</th>\n",
       "      <td>Felling Worried :(</td>\n",
       "    </tr>\n",
       "  </tbody>\n",
       "</table>\n",
       "</div>"
      ],
      "text/plain": [
       "                                                text\n",
       "0  Check out my Comment in this link: https://exa...\n",
       "1                             <p>Running is fun!</p>\n",
       "2                  The cats are sitting on the mats.\n",
       "3                                        I'm Fine :>\n",
       "4                                 Felling Worried :("
      ]
     },
     "execution_count": 2,
     "metadata": {},
     "output_type": "execute_result"
    }
   ],
   "source": [
    "import pandas as pd\n",
    "\n",
    "# Sample DataFrame\n",
    "\n",
    "data = {'text': [\n",
    "    \"Check out my Comment in this link: https://example.com\",\n",
    "    \"<p>Running is fun!</p>\",\n",
    "    \"The cats are sitting on the mats.\",\n",
    "    \"I'm Fine :>\",\n",
    "    \"Felling Worried :(\"\n",
    "]}\n",
    "\n",
    "df = pd.DataFrame(data)\n",
    "df"
   ]
  },
  {
   "cell_type": "markdown",
   "id": "d228301b",
   "metadata": {},
   "source": [
    "# Step 1 : Cleaning"
   ]
  },
  {
   "cell_type": "markdown",
   "id": "39183dd9",
   "metadata": {},
   "source": [
    "##### 1.1 Convert to lowercase"
   ]
  },
  {
   "cell_type": "code",
   "execution_count": 3,
   "id": "95df3405",
   "metadata": {},
   "outputs": [
    {
     "data": {
      "text/html": [
       "<div>\n",
       "<style scoped>\n",
       "    .dataframe tbody tr th:only-of-type {\n",
       "        vertical-align: middle;\n",
       "    }\n",
       "\n",
       "    .dataframe tbody tr th {\n",
       "        vertical-align: top;\n",
       "    }\n",
       "\n",
       "    .dataframe thead th {\n",
       "        text-align: right;\n",
       "    }\n",
       "</style>\n",
       "<table border=\"1\" class=\"dataframe\">\n",
       "  <thead>\n",
       "    <tr style=\"text-align: right;\">\n",
       "      <th></th>\n",
       "      <th>text</th>\n",
       "      <th>clean_text</th>\n",
       "    </tr>\n",
       "  </thead>\n",
       "  <tbody>\n",
       "    <tr>\n",
       "      <th>0</th>\n",
       "      <td>Check out my Comment in this link: https://exa...</td>\n",
       "      <td>check out my comment in this link: https://exa...</td>\n",
       "    </tr>\n",
       "    <tr>\n",
       "      <th>1</th>\n",
       "      <td>&lt;p&gt;Running is fun!&lt;/p&gt;</td>\n",
       "      <td>&lt;p&gt;running is fun!&lt;/p&gt;</td>\n",
       "    </tr>\n",
       "    <tr>\n",
       "      <th>2</th>\n",
       "      <td>The cats are sitting on the mats.</td>\n",
       "      <td>the cats are sitting on the mats.</td>\n",
       "    </tr>\n",
       "    <tr>\n",
       "      <th>3</th>\n",
       "      <td>I'm Fine :&gt;</td>\n",
       "      <td>i'm fine :&gt;</td>\n",
       "    </tr>\n",
       "    <tr>\n",
       "      <th>4</th>\n",
       "      <td>Felling Worried :(</td>\n",
       "      <td>felling worried :(</td>\n",
       "    </tr>\n",
       "  </tbody>\n",
       "</table>\n",
       "</div>"
      ],
      "text/plain": [
       "                                                text  \\\n",
       "0  Check out my Comment in this link: https://exa...   \n",
       "1                             <p>Running is fun!</p>   \n",
       "2                  The cats are sitting on the mats.   \n",
       "3                                        I'm Fine :>   \n",
       "4                                 Felling Worried :(   \n",
       "\n",
       "                                          clean_text  \n",
       "0  check out my comment in this link: https://exa...  \n",
       "1                             <p>running is fun!</p>  \n",
       "2                  the cats are sitting on the mats.  \n",
       "3                                        i'm fine :>  \n",
       "4                                 felling worried :(  "
      ]
     },
     "execution_count": 3,
     "metadata": {},
     "output_type": "execute_result"
    }
   ],
   "source": [
    "df['clean_text'] = df['text'].str.lower()\n",
    "df.head()"
   ]
  },
  {
   "cell_type": "markdown",
   "id": "a531a04d",
   "metadata": {},
   "source": [
    "##### 1.2 Removing URLs"
   ]
  },
  {
   "cell_type": "code",
   "execution_count": 4,
   "id": "910aaec4",
   "metadata": {},
   "outputs": [
    {
     "data": {
      "text/html": [
       "<div>\n",
       "<style scoped>\n",
       "    .dataframe tbody tr th:only-of-type {\n",
       "        vertical-align: middle;\n",
       "    }\n",
       "\n",
       "    .dataframe tbody tr th {\n",
       "        vertical-align: top;\n",
       "    }\n",
       "\n",
       "    .dataframe thead th {\n",
       "        text-align: right;\n",
       "    }\n",
       "</style>\n",
       "<table border=\"1\" class=\"dataframe\">\n",
       "  <thead>\n",
       "    <tr style=\"text-align: right;\">\n",
       "      <th></th>\n",
       "      <th>text</th>\n",
       "      <th>clean_text</th>\n",
       "    </tr>\n",
       "  </thead>\n",
       "  <tbody>\n",
       "    <tr>\n",
       "      <th>0</th>\n",
       "      <td>Check out my Comment in this link: https://exa...</td>\n",
       "      <td>check out my comment in this link:</td>\n",
       "    </tr>\n",
       "    <tr>\n",
       "      <th>1</th>\n",
       "      <td>&lt;p&gt;Running is fun!&lt;/p&gt;</td>\n",
       "      <td>&lt;p&gt;running is fun!&lt;/p&gt;</td>\n",
       "    </tr>\n",
       "    <tr>\n",
       "      <th>2</th>\n",
       "      <td>The cats are sitting on the mats.</td>\n",
       "      <td>the cats are sitting on the mats.</td>\n",
       "    </tr>\n",
       "    <tr>\n",
       "      <th>3</th>\n",
       "      <td>I'm Fine :&gt;</td>\n",
       "      <td>i'm fine :&gt;</td>\n",
       "    </tr>\n",
       "    <tr>\n",
       "      <th>4</th>\n",
       "      <td>Felling Worried :(</td>\n",
       "      <td>felling worried :(</td>\n",
       "    </tr>\n",
       "  </tbody>\n",
       "</table>\n",
       "</div>"
      ],
      "text/plain": [
       "                                                text  \\\n",
       "0  Check out my Comment in this link: https://exa...   \n",
       "1                             <p>Running is fun!</p>   \n",
       "2                  The cats are sitting on the mats.   \n",
       "3                                        I'm Fine :>   \n",
       "4                                 Felling Worried :(   \n",
       "\n",
       "                            clean_text  \n",
       "0  check out my comment in this link:   \n",
       "1               <p>running is fun!</p>  \n",
       "2    the cats are sitting on the mats.  \n",
       "3                          i'm fine :>  \n",
       "4                   felling worried :(  "
      ]
     },
     "execution_count": 4,
     "metadata": {},
     "output_type": "execute_result"
    }
   ],
   "source": [
    "import re\n",
    "\n",
    "def clean_text(text):\n",
    "    return re.sub(r'http\\S+|www\\S+|https\\S+', '', text, flags=re.MULTILINE)\n",
    "\n",
    "df['clean_text'] = df['clean_text'].apply(clean_text)\n",
    "\n",
    "df.head()"
   ]
  },
  {
   "cell_type": "markdown",
   "id": "40b1cd8d",
   "metadata": {},
   "source": [
    "##### 1.3 Removing HTML Tags"
   ]
  },
  {
   "cell_type": "code",
   "execution_count": 5,
   "id": "fd49d29a",
   "metadata": {},
   "outputs": [
    {
     "data": {
      "text/html": [
       "<div>\n",
       "<style scoped>\n",
       "    .dataframe tbody tr th:only-of-type {\n",
       "        vertical-align: middle;\n",
       "    }\n",
       "\n",
       "    .dataframe tbody tr th {\n",
       "        vertical-align: top;\n",
       "    }\n",
       "\n",
       "    .dataframe thead th {\n",
       "        text-align: right;\n",
       "    }\n",
       "</style>\n",
       "<table border=\"1\" class=\"dataframe\">\n",
       "  <thead>\n",
       "    <tr style=\"text-align: right;\">\n",
       "      <th></th>\n",
       "      <th>text</th>\n",
       "      <th>clean_text</th>\n",
       "    </tr>\n",
       "  </thead>\n",
       "  <tbody>\n",
       "    <tr>\n",
       "      <th>0</th>\n",
       "      <td>Check out my Comment in this link: https://exa...</td>\n",
       "      <td>check out my comment in this link:</td>\n",
       "    </tr>\n",
       "    <tr>\n",
       "      <th>1</th>\n",
       "      <td>&lt;p&gt;Running is fun!&lt;/p&gt;</td>\n",
       "      <td>running is fun!</td>\n",
       "    </tr>\n",
       "    <tr>\n",
       "      <th>2</th>\n",
       "      <td>The cats are sitting on the mats.</td>\n",
       "      <td>the cats are sitting on the mats.</td>\n",
       "    </tr>\n",
       "    <tr>\n",
       "      <th>3</th>\n",
       "      <td>I'm Fine :&gt;</td>\n",
       "      <td>i'm fine :&gt;</td>\n",
       "    </tr>\n",
       "    <tr>\n",
       "      <th>4</th>\n",
       "      <td>Felling Worried :(</td>\n",
       "      <td>felling worried :(</td>\n",
       "    </tr>\n",
       "  </tbody>\n",
       "</table>\n",
       "</div>"
      ],
      "text/plain": [
       "                                                text  \\\n",
       "0  Check out my Comment in this link: https://exa...   \n",
       "1                             <p>Running is fun!</p>   \n",
       "2                  The cats are sitting on the mats.   \n",
       "3                                        I'm Fine :>   \n",
       "4                                 Felling Worried :(   \n",
       "\n",
       "                            clean_text  \n",
       "0  check out my comment in this link:   \n",
       "1                      running is fun!  \n",
       "2    the cats are sitting on the mats.  \n",
       "3                          i'm fine :>  \n",
       "4                   felling worried :(  "
      ]
     },
     "execution_count": 5,
     "metadata": {},
     "output_type": "execute_result"
    }
   ],
   "source": [
    "from bs4 import BeautifulSoup\n",
    "\n",
    "def clean_text(text):\n",
    "    return BeautifulSoup(text, \"html.parser\").get_text()\n",
    "\n",
    "# Apply the cleaning function to the 'tweet' column\n",
    "df['clean_text'] = df['clean_text'].apply(clean_text)\n",
    "\n",
    "df"
   ]
  },
  {
   "cell_type": "markdown",
   "id": "747d1b3e",
   "metadata": {},
   "source": [
    "##### 1.4 Remove unwanted characters"
   ]
  },
  {
   "cell_type": "markdown",
   "id": "f88cc46f",
   "metadata": {},
   "source": [
    "* Remove the punctuations , symbols etc to reduce noise in the data"
   ]
  },
  {
   "cell_type": "code",
   "execution_count": 6,
   "id": "cc901128",
   "metadata": {},
   "outputs": [
    {
     "data": {
      "text/html": [
       "<div>\n",
       "<style scoped>\n",
       "    .dataframe tbody tr th:only-of-type {\n",
       "        vertical-align: middle;\n",
       "    }\n",
       "\n",
       "    .dataframe tbody tr th {\n",
       "        vertical-align: top;\n",
       "    }\n",
       "\n",
       "    .dataframe thead th {\n",
       "        text-align: right;\n",
       "    }\n",
       "</style>\n",
       "<table border=\"1\" class=\"dataframe\">\n",
       "  <thead>\n",
       "    <tr style=\"text-align: right;\">\n",
       "      <th></th>\n",
       "      <th>text</th>\n",
       "      <th>clean_text</th>\n",
       "    </tr>\n",
       "  </thead>\n",
       "  <tbody>\n",
       "    <tr>\n",
       "      <th>0</th>\n",
       "      <td>Check out my Comment in this link: https://exa...</td>\n",
       "      <td>check out my comment in this link</td>\n",
       "    </tr>\n",
       "    <tr>\n",
       "      <th>1</th>\n",
       "      <td>&lt;p&gt;Running is fun!&lt;/p&gt;</td>\n",
       "      <td>running is fun</td>\n",
       "    </tr>\n",
       "    <tr>\n",
       "      <th>2</th>\n",
       "      <td>The cats are sitting on the mats.</td>\n",
       "      <td>the cats are sitting on the mats</td>\n",
       "    </tr>\n",
       "    <tr>\n",
       "      <th>3</th>\n",
       "      <td>I'm Fine :&gt;</td>\n",
       "      <td>im fine</td>\n",
       "    </tr>\n",
       "    <tr>\n",
       "      <th>4</th>\n",
       "      <td>Felling Worried :(</td>\n",
       "      <td>felling worried</td>\n",
       "    </tr>\n",
       "  </tbody>\n",
       "</table>\n",
       "</div>"
      ],
      "text/plain": [
       "                                                text  \\\n",
       "0  Check out my Comment in this link: https://exa...   \n",
       "1                             <p>Running is fun!</p>   \n",
       "2                  The cats are sitting on the mats.   \n",
       "3                                        I'm Fine :>   \n",
       "4                                 Felling Worried :(   \n",
       "\n",
       "                           clean_text  \n",
       "0  check out my comment in this link   \n",
       "1                      running is fun  \n",
       "2    the cats are sitting on the mats  \n",
       "3                            im fine   \n",
       "4                    felling worried   "
      ]
     },
     "execution_count": 6,
     "metadata": {},
     "output_type": "execute_result"
    }
   ],
   "source": [
    "import re\n",
    "\n",
    "def clean_text(tweet):\n",
    "    return re.sub(r'[^A-Za-z0-9\\s]', '', tweet)\n",
    "\n",
    "df['clean_text'] = df['clean_text'].apply(clean_text)\n",
    "\n",
    "df"
   ]
  },
  {
   "cell_type": "markdown",
   "id": "c319ab10",
   "metadata": {},
   "source": [
    "# Step 2 : Tokenization"
   ]
  },
  {
   "cell_type": "markdown",
   "id": "af2b5041",
   "metadata": {},
   "source": [
    "It splits the text into individual words or tokens"
   ]
  },
  {
   "cell_type": "code",
   "execution_count": 7,
   "id": "76cb1134",
   "metadata": {},
   "outputs": [],
   "source": [
    "from nltk.tokenize import word_tokenize"
   ]
  },
  {
   "cell_type": "code",
   "execution_count": 8,
   "id": "a5af158d",
   "metadata": {},
   "outputs": [
    {
     "data": {
      "text/html": [
       "<div>\n",
       "<style scoped>\n",
       "    .dataframe tbody tr th:only-of-type {\n",
       "        vertical-align: middle;\n",
       "    }\n",
       "\n",
       "    .dataframe tbody tr th {\n",
       "        vertical-align: top;\n",
       "    }\n",
       "\n",
       "    .dataframe thead th {\n",
       "        text-align: right;\n",
       "    }\n",
       "</style>\n",
       "<table border=\"1\" class=\"dataframe\">\n",
       "  <thead>\n",
       "    <tr style=\"text-align: right;\">\n",
       "      <th></th>\n",
       "      <th>text</th>\n",
       "      <th>clean_text</th>\n",
       "    </tr>\n",
       "  </thead>\n",
       "  <tbody>\n",
       "    <tr>\n",
       "      <th>0</th>\n",
       "      <td>Check out my Comment in this link: https://exa...</td>\n",
       "      <td>[check, out, my, comment, in, this, link]</td>\n",
       "    </tr>\n",
       "    <tr>\n",
       "      <th>1</th>\n",
       "      <td>&lt;p&gt;Running is fun!&lt;/p&gt;</td>\n",
       "      <td>[running, is, fun]</td>\n",
       "    </tr>\n",
       "    <tr>\n",
       "      <th>2</th>\n",
       "      <td>The cats are sitting on the mats.</td>\n",
       "      <td>[the, cats, are, sitting, on, the, mats]</td>\n",
       "    </tr>\n",
       "    <tr>\n",
       "      <th>3</th>\n",
       "      <td>I'm Fine :&gt;</td>\n",
       "      <td>[im, fine]</td>\n",
       "    </tr>\n",
       "    <tr>\n",
       "      <th>4</th>\n",
       "      <td>Felling Worried :(</td>\n",
       "      <td>[felling, worried]</td>\n",
       "    </tr>\n",
       "  </tbody>\n",
       "</table>\n",
       "</div>"
      ],
      "text/plain": [
       "                                                text  \\\n",
       "0  Check out my Comment in this link: https://exa...   \n",
       "1                             <p>Running is fun!</p>   \n",
       "2                  The cats are sitting on the mats.   \n",
       "3                                        I'm Fine :>   \n",
       "4                                 Felling Worried :(   \n",
       "\n",
       "                                  clean_text  \n",
       "0  [check, out, my, comment, in, this, link]  \n",
       "1                         [running, is, fun]  \n",
       "2   [the, cats, are, sitting, on, the, mats]  \n",
       "3                                 [im, fine]  \n",
       "4                         [felling, worried]  "
      ]
     },
     "execution_count": 8,
     "metadata": {},
     "output_type": "execute_result"
    }
   ],
   "source": [
    "def tokenize(text):\n",
    "    return word_tokenize(text)\n",
    "\n",
    "df['clean_text'] = df['clean_text'].apply(tokenize)\n",
    "df"
   ]
  },
  {
   "cell_type": "markdown",
   "id": "81c358c1",
   "metadata": {},
   "source": [
    "# Step 3 : Removal of Stop words"
   ]
  },
  {
   "cell_type": "code",
   "execution_count": 9,
   "id": "371436c8",
   "metadata": {},
   "outputs": [
    {
     "name": "stdout",
     "output_type": "stream",
     "text": [
      "{'when', 'y', 'we', 'what', \"doesn't\", 'were', 'had', 'while', 'once', 'do', \"she's\", 'the', 'they', 'about', 'myself', 'was', 'all', 'our', 'her', 'is', 'be', 'after', \"aren't\", 'both', \"that'll\", 'you', \"mustn't\", 'same', 'did', 'then', 'more', \"hasn't\", 'their', \"couldn't\", 'with', \"you'll\", 'll', 'o', 'mightn', 're', \"mightn't\", 'a', 'can', 'hers', \"didn't\", 'but', 'just', 'yourself', 'weren', 'does', 'until', 'shan', 'by', 'why', 'above', 'mustn', 'now', 'm', \"wouldn't\", 'on', \"needn't\", 'haven', 'hasn', 'ourselves', \"you've\", 'am', 'his', 'yours', 'me', 'some', \"weren't\", 'there', 'shouldn', 'don', 'because', 'before', 'few', 'ain', 'yourselves', 'during', 'to', 'i', 'needn', \"you're\", 'who', 'nor', 'down', 'for', 'not', 'its', 'from', 'my', 'as', 'which', 'whom', 've', 'she', 'ours', 'through', 'out', 'being', 'into', \"you'd\", 'up', 'these', 'd', 'most', 'your', 'where', 'couldn', 'over', 'so', \"haven't\", 'if', 'himself', 'of', 'hadn', 'below', 'them', 'too', \"should've\", 'doesn', 'have', 'should', \"wasn't\", 'those', 't', 'theirs', 'such', 'he', 'other', 'been', 'and', 'are', 'aren', \"shouldn't\", 'has', 'will', 'itself', 'again', 'here', 'that', 'against', 'in', 'very', 'won', 'this', 'between', 'isn', 'didn', \"shan't\", 'an', 'wasn', 'having', 'herself', 'it', \"it's\", 'doing', 'own', 'themselves', \"don't\", 'off', 'each', 's', 'him', 'any', 'only', 'ma', 'or', 'wouldn', 'further', 'than', 'under', \"won't\", 'no', \"isn't\", \"hadn't\", 'at', 'how'}\n"
     ]
    }
   ],
   "source": [
    "from nltk.corpus import stopwords\n",
    "from nltk.tokenize import word_tokenize\n",
    "\n",
    "stop_words = set(stopwords.words('english'))\n",
    "print(stop_words)"
   ]
  },
  {
   "cell_type": "code",
   "execution_count": 10,
   "id": "4358829e",
   "metadata": {},
   "outputs": [
    {
     "data": {
      "text/html": [
       "<div>\n",
       "<style scoped>\n",
       "    .dataframe tbody tr th:only-of-type {\n",
       "        vertical-align: middle;\n",
       "    }\n",
       "\n",
       "    .dataframe tbody tr th {\n",
       "        vertical-align: top;\n",
       "    }\n",
       "\n",
       "    .dataframe thead th {\n",
       "        text-align: right;\n",
       "    }\n",
       "</style>\n",
       "<table border=\"1\" class=\"dataframe\">\n",
       "  <thead>\n",
       "    <tr style=\"text-align: right;\">\n",
       "      <th></th>\n",
       "      <th>text</th>\n",
       "      <th>clean_text</th>\n",
       "    </tr>\n",
       "  </thead>\n",
       "  <tbody>\n",
       "    <tr>\n",
       "      <th>0</th>\n",
       "      <td>Check out my Comment in this link: https://exa...</td>\n",
       "      <td>[check, comment, link]</td>\n",
       "    </tr>\n",
       "    <tr>\n",
       "      <th>1</th>\n",
       "      <td>&lt;p&gt;Running is fun!&lt;/p&gt;</td>\n",
       "      <td>[running, fun]</td>\n",
       "    </tr>\n",
       "    <tr>\n",
       "      <th>2</th>\n",
       "      <td>The cats are sitting on the mats.</td>\n",
       "      <td>[cats, sitting, mats]</td>\n",
       "    </tr>\n",
       "    <tr>\n",
       "      <th>3</th>\n",
       "      <td>I'm Fine :&gt;</td>\n",
       "      <td>[im, fine]</td>\n",
       "    </tr>\n",
       "    <tr>\n",
       "      <th>4</th>\n",
       "      <td>Felling Worried :(</td>\n",
       "      <td>[felling, worried]</td>\n",
       "    </tr>\n",
       "  </tbody>\n",
       "</table>\n",
       "</div>"
      ],
      "text/plain": [
       "                                                text              clean_text\n",
       "0  Check out my Comment in this link: https://exa...  [check, comment, link]\n",
       "1                             <p>Running is fun!</p>          [running, fun]\n",
       "2                  The cats are sitting on the mats.   [cats, sitting, mats]\n",
       "3                                        I'm Fine :>              [im, fine]\n",
       "4                                 Felling Worried :(      [felling, worried]"
      ]
     },
     "execution_count": 10,
     "metadata": {},
     "output_type": "execute_result"
    }
   ],
   "source": [
    "def remove_stop_words(text):\n",
    "    return [word for word in text if word not in stop_words]\n",
    "\n",
    "df['clean_text'] = df['clean_text'].apply(remove_stop_words)\n",
    "\n",
    "df"
   ]
  },
  {
   "cell_type": "markdown",
   "id": "b6da25cb",
   "metadata": {},
   "source": [
    "# Step 4 : Stemming"
   ]
  },
  {
   "cell_type": "markdown",
   "id": "b587578d",
   "metadata": {},
   "source": [
    "It converts the words to its root form, ex : running becomes run"
   ]
  },
  {
   "cell_type": "code",
   "execution_count": 11,
   "id": "b8e6529e",
   "metadata": {},
   "outputs": [
    {
     "data": {
      "text/html": [
       "<div>\n",
       "<style scoped>\n",
       "    .dataframe tbody tr th:only-of-type {\n",
       "        vertical-align: middle;\n",
       "    }\n",
       "\n",
       "    .dataframe tbody tr th {\n",
       "        vertical-align: top;\n",
       "    }\n",
       "\n",
       "    .dataframe thead th {\n",
       "        text-align: right;\n",
       "    }\n",
       "</style>\n",
       "<table border=\"1\" class=\"dataframe\">\n",
       "  <thead>\n",
       "    <tr style=\"text-align: right;\">\n",
       "      <th></th>\n",
       "      <th>text</th>\n",
       "      <th>clean_text</th>\n",
       "      <th>Stemmed_text</th>\n",
       "    </tr>\n",
       "  </thead>\n",
       "  <tbody>\n",
       "    <tr>\n",
       "      <th>0</th>\n",
       "      <td>Check out my Comment in this link: https://exa...</td>\n",
       "      <td>[check, comment, link]</td>\n",
       "      <td>[check, comment, link]</td>\n",
       "    </tr>\n",
       "    <tr>\n",
       "      <th>1</th>\n",
       "      <td>&lt;p&gt;Running is fun!&lt;/p&gt;</td>\n",
       "      <td>[running, fun]</td>\n",
       "      <td>[run, fun]</td>\n",
       "    </tr>\n",
       "    <tr>\n",
       "      <th>2</th>\n",
       "      <td>The cats are sitting on the mats.</td>\n",
       "      <td>[cats, sitting, mats]</td>\n",
       "      <td>[cat, sit, mat]</td>\n",
       "    </tr>\n",
       "    <tr>\n",
       "      <th>3</th>\n",
       "      <td>I'm Fine :&gt;</td>\n",
       "      <td>[im, fine]</td>\n",
       "      <td>[im, fine]</td>\n",
       "    </tr>\n",
       "    <tr>\n",
       "      <th>4</th>\n",
       "      <td>Felling Worried :(</td>\n",
       "      <td>[felling, worried]</td>\n",
       "      <td>[fell, worri]</td>\n",
       "    </tr>\n",
       "  </tbody>\n",
       "</table>\n",
       "</div>"
      ],
      "text/plain": [
       "                                                text              clean_text  \\\n",
       "0  Check out my Comment in this link: https://exa...  [check, comment, link]   \n",
       "1                             <p>Running is fun!</p>          [running, fun]   \n",
       "2                  The cats are sitting on the mats.   [cats, sitting, mats]   \n",
       "3                                        I'm Fine :>              [im, fine]   \n",
       "4                                 Felling Worried :(      [felling, worried]   \n",
       "\n",
       "             Stemmed_text  \n",
       "0  [check, comment, link]  \n",
       "1              [run, fun]  \n",
       "2         [cat, sit, mat]  \n",
       "3              [im, fine]  \n",
       "4           [fell, worri]  "
      ]
     },
     "execution_count": 11,
     "metadata": {},
     "output_type": "execute_result"
    }
   ],
   "source": [
    "from nltk.stem import PorterStemmer\n",
    "\n",
    "stemmer = PorterStemmer()\n",
    "\n",
    "def stemming(tokens):\n",
    "    return [stemmer.stem(token) for token in tokens]\n",
    "\n",
    "df['Stemmed_text'] = df['clean_text'].apply(stemming)\n",
    "    \n",
    "df  "
   ]
  },
  {
   "cell_type": "markdown",
   "id": "79e44494",
   "metadata": {},
   "source": [
    "# Step 5 : Lemmatization"
   ]
  },
  {
   "cell_type": "code",
   "execution_count": 15,
   "id": "a815cae6",
   "metadata": {},
   "outputs": [
    {
     "name": "stderr",
     "output_type": "stream",
     "text": [
      "[nltk_data] Downloading package averaged_perceptron_tagger to\n",
      "[nltk_data]     C:\\Users\\jemim\\AppData\\Roaming\\nltk_data...\n",
      "[nltk_data]   Package averaged_perceptron_tagger is already up-to-\n",
      "[nltk_data]       date!\n"
     ]
    },
    {
     "data": {
      "text/plain": [
       "True"
      ]
     },
     "execution_count": 15,
     "metadata": {},
     "output_type": "execute_result"
    }
   ],
   "source": [
    "import nltk\n",
    "from nltk import pos_tag\n",
    "from nltk.corpus import wordnet\n",
    "from nltk.stem import WordNetLemmatizer\n",
    "nltk.download('averaged_perceptron_tagger')"
   ]
  },
  {
   "cell_type": "code",
   "execution_count": 16,
   "id": "f0ce2646",
   "metadata": {},
   "outputs": [
    {
     "data": {
      "text/html": [
       "<div>\n",
       "<style scoped>\n",
       "    .dataframe tbody tr th:only-of-type {\n",
       "        vertical-align: middle;\n",
       "    }\n",
       "\n",
       "    .dataframe tbody tr th {\n",
       "        vertical-align: top;\n",
       "    }\n",
       "\n",
       "    .dataframe thead th {\n",
       "        text-align: right;\n",
       "    }\n",
       "</style>\n",
       "<table border=\"1\" class=\"dataframe\">\n",
       "  <thead>\n",
       "    <tr style=\"text-align: right;\">\n",
       "      <th></th>\n",
       "      <th>text</th>\n",
       "      <th>clean_text</th>\n",
       "      <th>Stemmed_text</th>\n",
       "      <th>lemmatized_text</th>\n",
       "    </tr>\n",
       "  </thead>\n",
       "  <tbody>\n",
       "    <tr>\n",
       "      <th>0</th>\n",
       "      <td>Check out my Comment in this link: https://exa...</td>\n",
       "      <td>[check, comment, link]</td>\n",
       "      <td>[check, comment, link]</td>\n",
       "      <td>[check, comment, link]</td>\n",
       "    </tr>\n",
       "    <tr>\n",
       "      <th>1</th>\n",
       "      <td>&lt;p&gt;Running is fun!&lt;/p&gt;</td>\n",
       "      <td>[running, fun]</td>\n",
       "      <td>[run, fun]</td>\n",
       "      <td>[run, fun]</td>\n",
       "    </tr>\n",
       "    <tr>\n",
       "      <th>2</th>\n",
       "      <td>The cats are sitting on the mats.</td>\n",
       "      <td>[cats, sitting, mats]</td>\n",
       "      <td>[cat, sit, mat]</td>\n",
       "      <td>[cat, sit, mat]</td>\n",
       "    </tr>\n",
       "    <tr>\n",
       "      <th>3</th>\n",
       "      <td>I'm Fine :&gt;</td>\n",
       "      <td>[im, fine]</td>\n",
       "      <td>[im, fine]</td>\n",
       "      <td>[im, fine]</td>\n",
       "    </tr>\n",
       "    <tr>\n",
       "      <th>4</th>\n",
       "      <td>Felling Worried :(</td>\n",
       "      <td>[felling, worried]</td>\n",
       "      <td>[fell, worri]</td>\n",
       "      <td>[fell, worry]</td>\n",
       "    </tr>\n",
       "  </tbody>\n",
       "</table>\n",
       "</div>"
      ],
      "text/plain": [
       "                                                text              clean_text  \\\n",
       "0  Check out my Comment in this link: https://exa...  [check, comment, link]   \n",
       "1                             <p>Running is fun!</p>          [running, fun]   \n",
       "2                  The cats are sitting on the mats.   [cats, sitting, mats]   \n",
       "3                                        I'm Fine :>              [im, fine]   \n",
       "4                                 Felling Worried :(      [felling, worried]   \n",
       "\n",
       "             Stemmed_text         lemmatized_text  \n",
       "0  [check, comment, link]  [check, comment, link]  \n",
       "1              [run, fun]              [run, fun]  \n",
       "2         [cat, sit, mat]         [cat, sit, mat]  \n",
       "3              [im, fine]              [im, fine]  \n",
       "4           [fell, worri]           [fell, worry]  "
      ]
     },
     "execution_count": 16,
     "metadata": {},
     "output_type": "execute_result"
    }
   ],
   "source": [
    "lemmatizer = WordNetLemmatizer()\n",
    "wordnet_map = {\"N\":wordnet.NOUN,\"V\" : wordnet.VERB, \"J\": wordnet.ADJ, \"R\": wordnet.ADV}\n",
    "\n",
    "def lemmatize(tokens):\n",
    "    # POS tagging for the tokens\n",
    "    pos_tokens = pos_tag(tokens)\n",
    "    \n",
    "    # Lemmatize each token with its corresponding POS tag\n",
    "    return [lemmatizer.lemmatize(word, wordnet_map.get(pos[0], wordnet.NOUN)) for word, pos in pos_tokens]\n",
    "\n",
    "# Apply lemmatization to the DataFrame\n",
    "df['lemmatized_text'] = df['clean_text'].apply(lemmatize)\n",
    "\n",
    "df"
   ]
  },
  {
   "cell_type": "code",
   "execution_count": null,
   "id": "6b721cbe",
   "metadata": {},
   "outputs": [],
   "source": []
  }
 ],
 "metadata": {
  "kernelspec": {
   "display_name": "Python 3 (ipykernel)",
   "language": "python",
   "name": "python3"
  },
  "language_info": {
   "codemirror_mode": {
    "name": "ipython",
    "version": 3
   },
   "file_extension": ".py",
   "mimetype": "text/x-python",
   "name": "python",
   "nbconvert_exporter": "python",
   "pygments_lexer": "ipython3",
   "version": "3.10.9"
  }
 },
 "nbformat": 4,
 "nbformat_minor": 5
}
